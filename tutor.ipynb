{
 "cells": [
  {
   "cell_type": "code",
   "execution_count": null,
   "id": "36dc4777-7bd0-4e69-8f57-030bf5817a63",
   "metadata": {},
   "outputs": [],
   "source": [
    "import json"
   ]
  },
  {
   "cell_type": "code",
   "execution_count": 3,
   "id": "af406e35-2f29-4af7-a703-de460650661f",
   "metadata": {},
   "outputs": [],
   "source": [
    "def getMinCountsLoop(k, values):\n",
    "    memo = [-1] * (k + 1)\n",
    "    memo[0] = 0 # 初始化狀態\n",
    "    for item in range(1, k + 1):\n",
    "        minCount = k + 1 # 模擬無窮大\n",
    "        for it in range(len(values)):\n",
    "            currentValue = values[it]\n",
    "            # 如果當前面值大於硬幣總額，那麼跳過\n",
    "            if (currentValue > item):\n",
    "                continue\n",
    "\n",
    "            # 使用當前面值，得到剩餘硬幣總額\n",
    "            rest = item - currentValue\n",
    "            restCount = memo[rest]\n",
    "           \n",
    "            # 如果返回-1，說明組合不可信，跳過\n",
    "            if (restCount == -1):\n",
    "                continue\n",
    "\n",
    "            # 保留最小總額\n",
    "            itemCount = 1 + restCount\n",
    "            if (itemCount < minCount):\n",
    "                minCount = itemCount\n",
    "\n",
    "        # 如果是可用組合，記錄結果\n",
    "        if (minCount != k + 1):\n",
    "            memo[item] = minCount\n",
    "\n",
    "    return memo[k]\n",
    "\n",
    "def getMinCountsDPSol():\n",
    "    values = [3, 5] # 硬幣面值\n",
    "    total = 22 # 總值\n",
    "\n",
    "    # 求得最小的硬幣數量\n",
    "    return getMinCountsLoop(total, values) # 輸出答案\n",
    "\n",
    "def main():\n",
    "    result = getMinCountsDPSol()\n",
    "    print(result)"
   ]
  },
  {
   "cell_type": "code",
   "execution_count": 4,
   "id": "2b001427-6352-4571-9127-71454dc1275c",
   "metadata": {},
   "outputs": [
    {
     "name": "stdout",
     "output_type": "stream",
     "text": [
      "6\n"
     ]
    }
   ],
   "source": [
    "main()"
   ]
  },
  {
   "cell_type": "code",
   "execution_count": null,
   "id": "fabdcba5-414f-4528-9fa1-19d9bbe79fdf",
   "metadata": {},
   "outputs": [],
   "source": [
    "def generate_config(filename):\n",
    "    config = {\n",
    "        '柳橙汁': [35, 5],\n",
    "        '芭樂汁': [35, 5],\n",
    "        '舒跑': [30, 5],\n",
    "        '科學麵': [10, 10],\n",
    "        '奶茶': [25, 5],\n",
    "        '紅茶': [20, 5],\n",
    "        '綠茶': [20, 5],\n",
    "        '肉燥麵': [50, 5],\n",
    "        '牛肉麵': [80, 3],\n",
    "        'valid_coins': [1, 5, 10, 50, 100]\n",
    "    }\n",
    "    with open('')"
   ]
  },
  {
   "cell_type": "code",
   "execution_count": null,
   "id": "5befb3b0-5558-49db-9738-8ad6b1ba6736",
   "metadata": {},
   "outputs": [],
   "source": [
    "class VendingMachine:\n",
    "    def __init__(self):\n",
    "        "
   ]
  }
 ],
 "metadata": {
  "kernelspec": {
   "display_name": "Python 3 (ipykernel)",
   "language": "python",
   "name": "python3"
  },
  "language_info": {
   "codemirror_mode": {
    "name": "ipython",
    "version": 3
   },
   "file_extension": ".py",
   "mimetype": "text/x-python",
   "name": "python",
   "nbconvert_exporter": "python",
   "pygments_lexer": "ipython3",
   "version": "3.8.12"
  }
 },
 "nbformat": 4,
 "nbformat_minor": 5
}
